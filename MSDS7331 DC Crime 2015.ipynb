{
 "cells": [
  {
   "cell_type": "markdown",
   "metadata": {},
   "source": [
    "# MSDS 7331 - Mini Lab: Logistic Regression and SVMs\n",
    "\n",
    "### Investigators\n",
    "- [Matt Baldree](mailto:mbaldree@smu.edu?subject=lab1)\n",
    "- [Tom Elkins](telkins@smu.edu?subject=lab1)\n",
    "- [Austin Kelly](ajkelly@smu.edu?subject=lab1)\n",
    "- [Murali Parthasarathy](mparthasarathy@smu.edu?subject=lab1)\n",
    "\n",
    "\n",
    "<div style='margin-left:10%;margin-right:10%;margin-top:15px;background-color:#d3d3d3;padding:5px;'>\n",
    "    <h3>Lab Instructions</h3>\n",
    "    <p>You are to perform predictive analysis (classification) upon a data set: model the dataset using methods we have discussed in class: logistic regression and support vector machines, and making conclusions from the analysis. Follow the CRISP-DM framework in your analysis (you are not performing all of the CRISP-DM outline, only the portions relevant to the grading rubric outlined below). This report is worth 10% of the final grade. You may complete this assignment in teams of as many as three people.\n",
    "Write a report covering all the steps of the project. The format of the document can be PDF, *.ipynb, or HTML. You can write the report in whatever format you like, but it is easiest to turn in the rendered iPython notebook. The results should be reproducible using your report. Please carefully describe every assumption and every step in your report.</p>\n",
    "</div>"
   ]
  },
  {
   "cell_type": "markdown",
   "metadata": {},
   "source": [
    "<a id='data_prep'></a>\n",
    "## 1 - Data Preparation\n",
    "\n",
    "### 1.1 - Dataset Review\n",
    "We continue to use our dataset selected for lab 1 - the 2015 Washington, D.C. Metro Crime data.  That dataset contained the type of crime committed (Field name \"OFFENSE\"; from which we derived an \"Offense_Code\" field and ascribed a numeric value for each offense type (NOTE: The number used does not imply a level of severity they were simply applied in order of appearance).  :\n",
    "\n",
    "|Offense|Offense_Code|Crime_Type|\n",
    "|:------|:----------:|---------:|\n",
    "|Theft/Other|1|2 (Property)|\n",
    "|Theft from Auto|2|2 (Property)|\n",
    "|Burglary|3|2 (Property)|\n",
    "|Assault with Dangerous Weapon|4|1 (Violent)|\n",
    "|Robbery|5|1 (Violent)|\n",
    "|Motor Vehicle Theft|6|2 (Property)|\n",
    "|Homicide|7|1 (Violent)|\n",
    "|Sex Abuse|8|1 (Violent)|\n",
    "|Arson|9|2 (Property)|\n",
    "\n",
    "The dataset contains a variety of geographic identifiers representing different political, social, and legal boundaries.\n",
    "\n",
    "DISTRICT -- the Police district within which the crime was committed<br>\n",
    "Police Service Area (PSA) -- A subordinate area within a District<br>\n",
    "Ward -- A political area, similar to a \"county\" in a larger state<br>\n",
    "Advisory Neighborhood Committed (ANC) -- A social group consisting of neighbors and social leaders in a small geographic area<br>\n",
    "Voting Precinct -- A political area for the management of voting residents<br>\n",
    "\n",
    "There are also time-based identifiers provided in the data\n",
    "* The Start and End dates/times of when the crime *might* have been committed.\n",
    "* The date/time the crime was reported (i.e. when the police responded and took the report)\n",
    "* These can be further decomposed to Seasons, Months, Weeks, Day of the Week, etc.\n",
    "* Shift - the police duty shift that responded to the crime (broken into 8-hour periods within a day)\n",
    "From these time-based data we could associate environmental conditions as well, including temperatures, rainfall, phase of the moon, etc.\n",
    "\n",
    "These features give us a variety of ways to attempt to classify the data.\n",
    "\n",
    "### 1.2 - Classification Tasks\n",
    "We decided to take a look at two different classification processes with our data set.\n",
    "\n",
    "#### 1.2.1 - Offense/Offense_Code\n",
    "For the first classification task, we chose to attempt building a model to predict the type of offense given the other features of the data (geographic location, time of day, political area, etc.).  The hope is that if a type of crime could be predicted, then the Police would be better able to allocate offense-specific resources appropriately.\n",
    "\n",
    "#### 1.2.2 - Crime_Type (Violent/Property)\n",
    "The second classification task is a binary classification, in which we attempt to build a model to predict whether the crime will be against a person (violent) or against property. Again, the goal is to help the Police manage resources more appropriately.\n",
    "\n",
    "#### 1.2.3 - Model Comparison\n",
    "Secondarily, we seek to compare the accuracy of the models - i.e. if the Crime_Type prediction indicates a \"Violent\" crime, does the Offense prediction agree (Homicide, Sex Abuse, Robbery, or Assault).\n"
   ]
  },
  {
   "cell_type": "markdown",
   "metadata": {},
   "source": [
    "<a id=\"model_building\"></a>\n",
    "## 2 - Model Building\n",
    "\n",
    "<div style='margin-left:10%;margin-right:10%;margin-top:15px;background-color:#d3d3d3;padding:10px;'>\n",
    "<h3>SVM and Logistic Regression Modeling</h3>\n",
    "    <ol><li>[<b>50 points</b>] Create a logistic regression model and a support vector machine model for the classification task involved with your dataset. Assess how well each model performs (use 80/20 training/testing split for your data). Adjust parameters of the models to make them more accurate. If your dataset size requires the use of stochastic gradient descent, then linear kernel only is fine to use.</li>\n",
    "    <li>[<b>10 points</b>]  Discuss the advantages of each model for each classification task. Does one type of model offer superior performance over another in terms of prediction accuracy? In terms of training time or efficiency? Explain in detail.</li>\n",
    "    <li>[<b>30 points</b>] Use the weights from logistic regression to interpret the importance of different features for each classification task. Explain your interpretation in detail. Why do you think some variables are more important?</li>\n",
    "    <li>[<b>10 points</b>]  Look at the chosen support vectors for the classification task. Do these provide\n",
    "any insight into the data? Explain.</li>\n",
    "</ol>\n",
    "</div>"
   ]
  },
  {
   "cell_type": "markdown",
   "metadata": {},
   "source": [
    "### 2.1 - Logistic Regression Model for Offense_Code (Rubric Item 1)"
   ]
  },
  {
   "cell_type": "markdown",
   "metadata": {},
   "source": [
    "### 2.2 - Support Vector Machine Model for Offense_Code (Rubric Item 1)"
   ]
  },
  {
   "cell_type": "markdown",
   "metadata": {},
   "source": [
    "### 2.3 - Logistic Regression Model for Crime_Type (Exceptional Work)"
   ]
  },
  {
   "cell_type": "markdown",
   "metadata": {},
   "source": [
    "### 2.4 - Support Vector Machine Model for Crime_Type (Exceptional Work)"
   ]
  },
  {
   "cell_type": "markdown",
   "metadata": {},
   "source": [
    "### 2.5 - Advantages of Each Model (Rubric Item 2)"
   ]
  },
  {
   "cell_type": "markdown",
   "metadata": {},
   "source": [
    "### 2.6 - Logistic Regression Weights (Rubric Item 3)"
   ]
  },
  {
   "cell_type": "markdown",
   "metadata": {},
   "source": [
    "### 2.7 - Support Vectors (Rubric Item 4)"
   ]
  },
  {
   "cell_type": "code",
   "execution_count": null,
   "metadata": {
    "collapsed": true
   },
   "outputs": [],
   "source": []
  }
 ],
 "metadata": {
  "anaconda-cloud": {},
  "kernelspec": {
   "display_name": "Python [Root]",
   "language": "python",
   "name": "Python [Root]"
  },
  "language_info": {
   "codemirror_mode": {
    "name": "ipython",
    "version": 2
   },
   "file_extension": ".py",
   "mimetype": "text/x-python",
   "name": "python",
   "nbconvert_exporter": "python",
   "pygments_lexer": "ipython2",
   "version": "2.7.12"
  }
 },
 "nbformat": 4,
 "nbformat_minor": 0
}
