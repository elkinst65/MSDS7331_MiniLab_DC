{
 "cells": [
  {
   "cell_type": "code",
   "execution_count": 84,
   "metadata": {
    "collapsed": true
   },
   "outputs": [],
   "source": [
    "import pandas as pd\n",
    "import numpy as np\n",
    "from __future__ import print_function\n",
    "\n",
    "# plotting stuff\n",
    "%matplotlib inline\n",
    "import matplotlib.pyplot as plt\n",
    "import seaborn as sns\n",
    "sns.set(font_scale=2)\n",
    "cmap = sns.diverging_palette(220, 10, as_cmap=True) # one of the many color mappings\n",
    "\n",
    "# Read in the crime data from the Lab 1 CSV file\n",
    "\n",
    "dc = pd.read_csv('/Users/murali/SMU/Minilab1/MSDS7331_MiniLab_DC/data/DC_Crime_2015_Lab1.csv')\n",
    "df_classify = dc.copy()"
   ]
  },
  {
   "cell_type": "code",
   "execution_count": 85,
   "metadata": {
    "collapsed": false
   },
   "outputs": [],
   "source": [
    "for attrib in ('OFFENSE', 'METHOD', 'DISTRICT', 'REPORT_DAT', 'CCN', 'START_DATE', 'END_DATE', \n",
    "               'SHIFT', 'PSA', 'TIME_TO_REPORT', 'XBLOCK', 'YBLOCK','WARD','Latitude','Longitude'):\n",
    "    if attrib in df_classify:\n",
    "        del df_classify[attrib]"
   ]
  },
  {
   "cell_type": "code",
   "execution_count": 86,
   "metadata": {
    "collapsed": false
   },
   "outputs": [
    {
     "data": {
      "text/html": [
       "<div>\n",
       "<table border=\"1\" class=\"dataframe\">\n",
       "  <thead>\n",
       "    <tr style=\"text-align: right;\">\n",
       "      <th></th>\n",
       "      <th>ANC</th>\n",
       "      <th>NEIGHBORHOOD_CLUSTER</th>\n",
       "      <th>CENSUS_TRACT</th>\n",
       "      <th>VOTING_PRECINCT</th>\n",
       "      <th>PSA_ID</th>\n",
       "      <th>DistrictID</th>\n",
       "      <th>SHIFT_Code</th>\n",
       "      <th>OFFENSE_Code</th>\n",
       "      <th>METHOD_Code</th>\n",
       "      <th>CRIME_TYPE</th>\n",
       "      <th>AGE</th>\n",
       "    </tr>\n",
       "  </thead>\n",
       "  <tbody>\n",
       "    <tr>\n",
       "      <th>0</th>\n",
       "      <td>12</td>\n",
       "      <td>3</td>\n",
       "      <td>4300</td>\n",
       "      <td>22</td>\n",
       "      <td>305</td>\n",
       "      <td>3</td>\n",
       "      <td>1</td>\n",
       "      <td>1</td>\n",
       "      <td>1</td>\n",
       "      <td>2</td>\n",
       "      <td>2678580</td>\n",
       "    </tr>\n",
       "    <tr>\n",
       "      <th>1</th>\n",
       "      <td>14</td>\n",
       "      <td>2</td>\n",
       "      <td>2701</td>\n",
       "      <td>40</td>\n",
       "      <td>408</td>\n",
       "      <td>4</td>\n",
       "      <td>1</td>\n",
       "      <td>2</td>\n",
       "      <td>1</td>\n",
       "      <td>2</td>\n",
       "      <td>176880</td>\n",
       "    </tr>\n",
       "    <tr>\n",
       "      <th>2</th>\n",
       "      <td>11</td>\n",
       "      <td>2</td>\n",
       "      <td>3000</td>\n",
       "      <td>39</td>\n",
       "      <td>302</td>\n",
       "      <td>3</td>\n",
       "      <td>2</td>\n",
       "      <td>1</td>\n",
       "      <td>1</td>\n",
       "      <td>2</td>\n",
       "      <td>600</td>\n",
       "    </tr>\n",
       "    <tr>\n",
       "      <th>3</th>\n",
       "      <td>12</td>\n",
       "      <td>3</td>\n",
       "      <td>3400</td>\n",
       "      <td>37</td>\n",
       "      <td>306</td>\n",
       "      <td>3</td>\n",
       "      <td>1</td>\n",
       "      <td>1</td>\n",
       "      <td>1</td>\n",
       "      <td>2</td>\n",
       "      <td>1449000</td>\n",
       "    </tr>\n",
       "    <tr>\n",
       "      <th>4</th>\n",
       "      <td>11</td>\n",
       "      <td>2</td>\n",
       "      <td>3000</td>\n",
       "      <td>39</td>\n",
       "      <td>302</td>\n",
       "      <td>3</td>\n",
       "      <td>1</td>\n",
       "      <td>2</td>\n",
       "      <td>1</td>\n",
       "      <td>2</td>\n",
       "      <td>71940</td>\n",
       "    </tr>\n",
       "  </tbody>\n",
       "</table>\n",
       "</div>"
      ],
      "text/plain": [
       "   ANC  NEIGHBORHOOD_CLUSTER  CENSUS_TRACT  VOTING_PRECINCT  PSA_ID  \\\n",
       "0   12                     3          4300               22     305   \n",
       "1   14                     2          2701               40     408   \n",
       "2   11                     2          3000               39     302   \n",
       "3   12                     3          3400               37     306   \n",
       "4   11                     2          3000               39     302   \n",
       "\n",
       "   DistrictID  SHIFT_Code  OFFENSE_Code  METHOD_Code  CRIME_TYPE      AGE  \n",
       "0           3           1             1            1           2  2678580  \n",
       "1           4           1             2            1           2   176880  \n",
       "2           3           2             1            1           2      600  \n",
       "3           3           1             1            1           2  1449000  \n",
       "4           3           1             2            1           2    71940  "
      ]
     },
     "execution_count": 86,
     "metadata": {},
     "output_type": "execute_result"
    }
   ],
   "source": [
    "df_classify.head()"
   ]
  },
  {
   "cell_type": "code",
   "execution_count": 89,
   "metadata": {
    "collapsed": false
   },
   "outputs": [
    {
     "data": {
      "text/plain": [
       "LinearRegression(copy_X=True, fit_intercept=True, n_jobs=1, normalize=False)"
      ]
     },
     "execution_count": 89,
     "metadata": {},
     "output_type": "execute_result"
    }
   ],
   "source": [
    "from sklearn import datasets, linear_model\n",
    "#df_classify.info()\n",
    "#dc.info()\n",
    "#dc.head()\n",
    "X_multi = df_classify.drop('CRIME_TYPE',1)\n",
    "Y_Target = df_classify.CRIME_TYPE\n",
    "\n",
    " \n",
    "legr = linear_model.LinearRegression()\n",
    "legr.fit(X_multi, Y_Target)\n",
    "\n",
    "#SHIFT_CODE\n",
    "#CRIME_TYPE\n",
    "#df_x = dc['PSA']\n",
    "#df_y = dc['CRIME_TYPE']\n",
    "\n",
    "#plt.scatter(df_y, df_x,  color='black')\n",
    "\n"
   ]
  },
  {
   "cell_type": "code",
   "execution_count": 90,
   "metadata": {
    "collapsed": false
   },
   "outputs": [
    {
     "name": "stdout",
     "output_type": "stream",
     "text": [
      " The estimated intercept coefficient is 2.64 \n",
      " The number of coefficients used was 10 \n",
      "[ -9.07263703e-05   6.40075086e-04   8.83636356e-08  -1.12209858e-04\n",
      "  -1.05314405e-03   1.04646334e-01  -4.70653267e-02  -9.42068767e-02\n",
      "  -4.32773197e-01   5.66267116e-11]\n"
     ]
    },
    {
     "data": {
      "text/html": [
       "<div>\n",
       "<table border=\"1\" class=\"dataframe\">\n",
       "  <thead>\n",
       "    <tr style=\"text-align: right;\">\n",
       "      <th></th>\n",
       "      <th>0</th>\n",
       "    </tr>\n",
       "  </thead>\n",
       "  <tbody>\n",
       "    <tr>\n",
       "      <th>0</th>\n",
       "      <td>REPORT_DAT</td>\n",
       "    </tr>\n",
       "    <tr>\n",
       "      <th>1</th>\n",
       "      <td>SHIFT</td>\n",
       "    </tr>\n",
       "    <tr>\n",
       "      <th>2</th>\n",
       "      <td>OFFENSE</td>\n",
       "    </tr>\n",
       "    <tr>\n",
       "      <th>3</th>\n",
       "      <td>METHOD</td>\n",
       "    </tr>\n",
       "    <tr>\n",
       "      <th>4</th>\n",
       "      <td>DISTRICT</td>\n",
       "    </tr>\n",
       "    <tr>\n",
       "      <th>5</th>\n",
       "      <td>PSA</td>\n",
       "    </tr>\n",
       "    <tr>\n",
       "      <th>6</th>\n",
       "      <td>WARD</td>\n",
       "    </tr>\n",
       "    <tr>\n",
       "      <th>7</th>\n",
       "      <td>ANC</td>\n",
       "    </tr>\n",
       "    <tr>\n",
       "      <th>8</th>\n",
       "      <td>NEIGHBORHOOD_CLUSTER</td>\n",
       "    </tr>\n",
       "    <tr>\n",
       "      <th>9</th>\n",
       "      <td>CENSUS_TRACT</td>\n",
       "    </tr>\n",
       "    <tr>\n",
       "      <th>10</th>\n",
       "      <td>VOTING_PRECINCT</td>\n",
       "    </tr>\n",
       "    <tr>\n",
       "      <th>11</th>\n",
       "      <td>CCN</td>\n",
       "    </tr>\n",
       "    <tr>\n",
       "      <th>12</th>\n",
       "      <td>XBLOCK</td>\n",
       "    </tr>\n",
       "    <tr>\n",
       "      <th>13</th>\n",
       "      <td>YBLOCK</td>\n",
       "    </tr>\n",
       "    <tr>\n",
       "      <th>14</th>\n",
       "      <td>START_DATE</td>\n",
       "    </tr>\n",
       "    <tr>\n",
       "      <th>15</th>\n",
       "      <td>END_DATE</td>\n",
       "    </tr>\n",
       "    <tr>\n",
       "      <th>16</th>\n",
       "      <td>PSA_ID</td>\n",
       "    </tr>\n",
       "    <tr>\n",
       "      <th>17</th>\n",
       "      <td>DistrictID</td>\n",
       "    </tr>\n",
       "    <tr>\n",
       "      <th>18</th>\n",
       "      <td>SHIFT_Code</td>\n",
       "    </tr>\n",
       "    <tr>\n",
       "      <th>19</th>\n",
       "      <td>OFFENSE_Code</td>\n",
       "    </tr>\n",
       "    <tr>\n",
       "      <th>20</th>\n",
       "      <td>METHOD_Code</td>\n",
       "    </tr>\n",
       "    <tr>\n",
       "      <th>21</th>\n",
       "      <td>CRIME_TYPE</td>\n",
       "    </tr>\n",
       "    <tr>\n",
       "      <th>22</th>\n",
       "      <td>AGE</td>\n",
       "    </tr>\n",
       "    <tr>\n",
       "      <th>23</th>\n",
       "      <td>TIME_TO_REPORT</td>\n",
       "    </tr>\n",
       "    <tr>\n",
       "      <th>24</th>\n",
       "      <td>Latitude</td>\n",
       "    </tr>\n",
       "    <tr>\n",
       "      <th>25</th>\n",
       "      <td>Longitude</td>\n",
       "    </tr>\n",
       "  </tbody>\n",
       "</table>\n",
       "</div>"
      ],
      "text/plain": [
       "                       0\n",
       "0             REPORT_DAT\n",
       "1                  SHIFT\n",
       "2                OFFENSE\n",
       "3                 METHOD\n",
       "4               DISTRICT\n",
       "5                    PSA\n",
       "6                   WARD\n",
       "7                    ANC\n",
       "8   NEIGHBORHOOD_CLUSTER\n",
       "9           CENSUS_TRACT\n",
       "10       VOTING_PRECINCT\n",
       "11                   CCN\n",
       "12                XBLOCK\n",
       "13                YBLOCK\n",
       "14            START_DATE\n",
       "15              END_DATE\n",
       "16                PSA_ID\n",
       "17            DistrictID\n",
       "18            SHIFT_Code\n",
       "19          OFFENSE_Code\n",
       "20           METHOD_Code\n",
       "21            CRIME_TYPE\n",
       "22                   AGE\n",
       "23        TIME_TO_REPORT\n",
       "24              Latitude\n",
       "25             Longitude"
      ]
     },
     "execution_count": 90,
     "metadata": {},
     "output_type": "execute_result"
    }
   ],
   "source": [
    "from pandas import Series,DataFrame\n",
    "print(' The estimated intercept coefficient is %.2f ' %legr.intercept_)\n",
    "\n",
    "print(' The number of coefficients used was %d ' % len(legr.coef_))\n",
    "\n",
    "print (legr.coef_)\n",
    "\n",
    " "
   ]
  },
  {
   "cell_type": "code",
   "execution_count": 93,
   "metadata": {
    "collapsed": false
   },
   "outputs": [
    {
     "data": {
      "text/plain": [
       "<matplotlib.text.Text at 0x1242e8810>"
      ]
     },
     "execution_count": 93,
     "metadata": {},
     "output_type": "execute_result"
    },
    {
     "data": {
      "image/png": "[encoded data removed]",
      "text/plain": [
       "<matplotlib.figure.Figure at 0x1242d70d0>"
      ]
     },
     "metadata": {},
     "output_type": "display_data"
    }
   ],
   "source": [
    "# Set a DataFrame from the Features\n",
    "\n",
    "df_new = df_classify.copy()\n",
    "\n",
    "del df_new['CRIME_TYPE']\n",
    "\n",
    "coeff_df = DataFrame(df_new.columns)\n",
    "coeff_df.columns = ['Features']\n",
    "\n",
    "# Set a new column lining up the coefficients from the linear regression\n",
    "coeff_df[\"Coefficient Estimate\"] = pd.Series(legr.coef_)\n",
    "\n",
    "# Show\n",
    "coeff_df\n",
    "\n",
    "plt.scatter(df_classify['NEIGHBORHOOD_CLUSTER'],df_classify['CRIME_TYPE'])\n",
    "''\n",
    "#label\n",
    "plt.ylabel('Neighbour Hood Clusters')\n",
    "plt.xlabel('Crime Type')"
   ]
  },
  {
   "cell_type": "code",
   "execution_count": 114,
   "metadata": {
    "collapsed": false
   },
   "outputs": [
    {
     "name": "stdout",
     "output_type": "stream",
     "text": [
      "(27366, 1) (9123, 1) (27366,) (9123,)\n"
     ]
    }
   ],
   "source": [
    "# Grab the output and set as X and Y test and train data sets!\n",
    "import sklearn.cross_validation\n",
    "df_x = df_classify['NEIGHBORHOOD_CLUSTER']\n",
    "df_y = df_classify['CRIME_TYPE']\n",
    "df_x = np.vstack(df_classify['NEIGHBORHOOD_CLUSTER'])\n",
    "X_train, X_test, Y_train, Y_test = sklearn.cross_validation.train_test_split(df_x,df_y)\n",
    "\n",
    "# Print shapes of the training and testing data sets\n",
    "print(X_train.shape, X_test.shape, Y_train.shape, Y_test.shape)"
   ]
  },
  {
   "cell_type": "code",
   "execution_count": 122,
   "metadata": {
    "collapsed": false
   },
   "outputs": [
    {
     "name": "stdout",
     "output_type": "stream",
     "text": [
      "Coefficients: \n",
      " [-0.00528942]\n",
      "Mean squared error: 0.14\n",
      "Variance score: 0.03\n"
     ]
    },
    {
     "data": {
      "image/png": "[encoded data removed]",
      "text/plain": [
       "<matplotlib.figure.Figure at 0x124b1fc50>"
      ]
     },
     "metadata": {},
     "output_type": "display_data"
    }
   ],
   "source": [
    "from sklearn import metrics as mt\n",
    " \n",
    "regr = linear_model.LinearRegression()\n",
    "\n",
    "# Train the model using the training sets\n",
    "regr.fit(X_train, Y_train)\n",
    "\n",
    "# The coefficients\n",
    "print('Coefficients: \\n', regr.coef_)\n",
    "# The mean squared error\n",
    "print(\"Mean squared error: %.2f\"\n",
    "     % np.mean((regr.predict(X_test) - Y_test) ** 2))\n",
    "#Explained variance score: 1 is perfect prediction\n",
    "print('Variance score: %.2f' % regr.score(X_test, Y_test))\n",
    "\n",
    "# Plot outputs\n",
    "plt.scatter(X_test, Y_test,  color='black')\n",
    "plt.plot(X_test, regr.predict(X_test), color='blue',\n",
    "         linewidth=3)\n",
    "\n",
    "plt.xticks(())\n",
    "plt.yticks(())\n",
    "\n",
    "plt.show()\n",
    "\n",
    "y_hat = regr.predict(X_test) # get test set precitions\n",
    "#acc = mt.accuracy_score(Y_test,y_hat)\n",
    "#conf = mt.confusion_matrix(Y_test,y_hat)\n"
   ]
  },
  {
   "cell_type": "code",
   "execution_count": null,
   "metadata": {
    "collapsed": true
   },
   "outputs": [],
   "source": []
  }
 ],
 "metadata": {
  "anaconda-cloud": {},
  "kernelspec": {
   "display_name": "Python [conda root]",
   "language": "python",
   "name": "conda-root-py"
  },
  "language_info": {
   "codemirror_mode": {
    "name": "ipython",
    "version": 2
   },
   "file_extension": ".py",
   "mimetype": "text/x-python",
   "name": "python",
   "nbconvert_exporter": "python",
   "pygments_lexer": "ipython2",
   "version": "2.7.12"
  }
 },
 "nbformat": 4,
 "nbformat_minor": 1
}
