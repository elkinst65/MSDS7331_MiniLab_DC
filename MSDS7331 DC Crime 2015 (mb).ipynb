{
 "cells": [
  {
   "cell_type": "markdown",
   "metadata": {},
   "source": [
    "# MSDS 7331 - Mini Lab: Logistic Regression and SVMs\n",
    "\n",
    "### Investigators\n",
    "- [Matt Baldree](mailto:mbaldree@smu.edu?subject=mini-lab)\n",
    "- [Tom Elkins](telkins@smu.edu?subject=mini-lab)\n",
    "- [Austin Kelly](ajkelly@smu.edu?subject=mini-lab)\n",
    "- [Murali Parthasarathy](mparthasarathy@smu.edu?subject=mini-lab)\n",
    "\n",
    "\n",
    "<div style='margin-left:10%;margin-right:10%;margin-top:15px;background-color:#d3d3d3;padding:5px;'>\n",
    "    <h3>Lab Instructions</h3>\n",
    "    <p>You are to perform predictive analysis (classification) upon a data set: model the dataset using methods we have discussed in class: logistic regression and support vector machines, and making conclusions from the analysis. Follow the CRISP-DM framework in your analysis (you are not performing all of the CRISP-DM outline, only the portions relevant to the grading rubric outlined below). This report is worth 10% of the final grade. You may complete this assignment in teams of as many as three people.\n",
    "Write a report covering all the steps of the project. The format of the document can be PDF, *.ipynb, or HTML. You can write the report in whatever format you like, but it is easiest to turn in the rendered iPython notebook. The results should be reproducible using your report. Please carefully describe every assumption and every step in your report.</p>\n",
    "</div>"
   ]
  },
  {
   "cell_type": "markdown",
   "metadata": {},
   "source": [
    "## 1 - Background\n",
    "We continue our data science work on the 2015 Washington, D.C. Metro Crime data as refined in Lab 1. This dataset contains crime data specified as \"OFFENSE\". An offense code was established for each offense and the offense were grouped into a binary classification of property or violent crime. The number used for the code does not imply a level of severity they were simply applied in order of appearance). The table below provides a mapping of the textual offense to its code and type of crime.\n",
    "\n",
    "|Offense|Offense_Code|Crime_Type|\n",
    "|:------|:----------:|---------:|\n",
    "|Theft/Other|1|2 (Property)|\n",
    "|Theft from Auto|2|2 (Property)|\n",
    "|Burglary|3|2 (Property)|\n",
    "|Assault with Dangerous Weapon|4|1 (Violent)|\n",
    "|Robbery|5|1 (Violent)|\n",
    "|Motor Vehicle Theft|6|2 (Property)|\n",
    "|Homicide|7|1 (Violent)|\n",
    "|Sex Abuse|8|1 (Violent)|\n",
    "|Arson|9|2 (Property)|\n",
    "\n",
    "The dataset also contains a variety of geographic identifiers representing different political, social, and legal boundaries.\n",
    "\n",
    "- DISTRICT -- the Police district within which the crime was committed\n",
    "- Police Service Area (PSA) -- A subordinate area within a District\n",
    "- Ward -- A political area, similar to a \"county\" in a larger state\n",
    "- Advisory Neighborhood Committed (ANC) -- A social group consisting of neighbors and social leaders in a small geographic area\n",
    "- Voting Precinct -- A political area for the management of voting residents\n",
    "- Local Coordinates (XBLOCK and YBLOCK) -- location within the DC metro area based on the Maryland mapping system\n",
    "- Global Coordinates (Latitude and Longitude) -- location on the planet\n",
    "\n",
    "The dataset also contains time-based identifiers.\n",
    "- The Start and End dates/times of when the crime *might* have been committed.\n",
    "- The date/time the crime was reported (i.e. when the police responded and took the report)\n",
    "- Shift - the police duty shift that responded to the crime (broken into 8-hour periods within a day)"
   ]
  },
  {
   "cell_type": "markdown",
   "metadata": {},
   "source": [
    "# 2 - Predictive Analysis Goal\n",
    "This mini-lab will predict a classification for the OFFENSE code and CRIME_TYPE given a set of features. Two classification models will be used to perform this classification - 1) logistic regression and 2) support vector machine (SVM). Parameters for these algorithms will be adjusted to determine the setting that yields the most accurate results. \n",
    "\n",
    "### Crime_Type (Violent/Property)\n",
    "The first classification task is a binary classification, in which we attempt to build a model to predict whether the crime will be against a person (violent) or against property given the other features of the data (geographic location, time of day, political area, etc.). The goal is to help the Police manage resources more appropriately.\n",
    "\n",
    "### Offense/Offense_Code\n",
    "For the second classification task, we chose to attempt building a model to predict the type of offense (theft, homicide, assault, arson, etc.).  The hope is that if a type of crime could be predicted, then the Police would be better able to allocate offense-specific resources appropriately.\n",
    "\n",
    "### Model Comparison\n",
    "Secondarily, we seek to compare the accuracy of the models - i.e. if the Crime_Type prediction indicates a \"Violent\" crime, does the Offense prediction agree (Homicide, Sex Abuse, Robbery, or Assault)."
   ]
  },
  {
   "cell_type": "markdown",
   "metadata": {},
   "source": [
    "# 3 - Modeling\n",
    "\n",
    "<div style='margin-left:10%;margin-right:10%;margin-top:15px;background-color:#d3d3d3;padding:10px;'>\n",
    "    <ol><li>[<b>50 points</b>] Create a logistic regression model and a support vector machine model for the classification task involved with your dataset. Assess how well each model performs (use 80/20 training/testing split for your data). Adjust parameters of the models to make them more accurate. If your dataset size requires the use of stochastic gradient descent, then linear kernel only is fine to use.</li>\n",
    "</ol>\n",
    "</div>"
   ]
  },
  {
   "cell_type": "markdown",
   "metadata": {},
   "source": [
    "## 3.1 Data Preparation\n",
    "Our dataset must be prepared for `scikit-learn` library of classifiers.\n",
    "\n",
    "### 3.1.1 Load Data"
   ]
  },
  {
   "cell_type": "code",
   "execution_count": 31,
   "metadata": {
    "collapsed": false
   },
   "outputs": [],
   "source": [
    "import pandas as pd\n",
    "import numpy as np\n",
    "from __future__ import print_function\n",
    "\n",
    "# plotting stuff\n",
    "%matplotlib inline\n",
    "import matplotlib.pyplot as plt\n",
    "import seaborn as sns\n",
    "sns.set(font_scale=2)\n",
    "cmap = sns.diverging_palette(220, 10, as_cmap=True) # one of the many color mappings\n",
    "\n",
    "# Read in the crime data from the Lab 1 CSV file\n",
    "dc = pd.read_csv('data/DC_Crime_2015_Lab1.csv')"
   ]
  },
  {
   "cell_type": "code",
   "execution_count": 32,
   "metadata": {
    "collapsed": false,
    "scrolled": true
   },
   "outputs": [
    {
     "name": "stdout",
     "output_type": "stream",
     "text": [
      "<class 'pandas.core.frame.DataFrame'>\n",
      "RangeIndex: 36489 entries, 0 to 36488\n",
      "Data columns (total 26 columns):\n",
      "REPORT_DAT              36489 non-null object\n",
      "SHIFT                   36489 non-null object\n",
      "OFFENSE                 36489 non-null object\n",
      "METHOD                  36489 non-null object\n",
      "DISTRICT                36442 non-null float64\n",
      "PSA                     36441 non-null float64\n",
      "WARD                    36489 non-null int64\n",
      "ANC                     36489 non-null int64\n",
      "NEIGHBORHOOD_CLUSTER    36489 non-null int64\n",
      "CENSUS_TRACT            36489 non-null int64\n",
      "VOTING_PRECINCT         36489 non-null int64\n",
      "CCN                     36489 non-null int64\n",
      "XBLOCK                  36489 non-null float64\n",
      "YBLOCK                  36489 non-null float64\n",
      "START_DATE              36489 non-null object\n",
      "END_DATE                36489 non-null object\n",
      "PSA_ID                  36489 non-null int64\n",
      "DistrictID              36489 non-null int64\n",
      "SHIFT_Code              36489 non-null int64\n",
      "OFFENSE_Code            36489 non-null int64\n",
      "METHOD_Code             36489 non-null int64\n",
      "CRIME_TYPE              36489 non-null int64\n",
      "AGE                     36489 non-null int64\n",
      "TIME_TO_REPORT          36489 non-null int64\n",
      "Latitude                36489 non-null float64\n",
      "Longitude               36489 non-null float64\n",
      "dtypes: float64(6), int64(14), object(6)\n",
      "memory usage: 7.2+ MB\n"
     ]
    }
   ],
   "source": [
    "# remind ourselves about the columns we have in this dataset\n",
    "dc.info()"
   ]
  },
  {
   "cell_type": "markdown",
   "metadata": {},
   "source": [
    "### 3.1.2 Break crime start date into usable values for prediction"
   ]
  },
  {
   "cell_type": "code",
   "execution_count": 33,
   "metadata": {
    "collapsed": false
   },
   "outputs": [],
   "source": [
    "# convert START_DATE to datetime\n",
    "dc.START_DATE = pd.to_datetime(dc.START_DATE)\n",
    "\n",
    "# add the month of the crime\n",
    "dc['Crime_Start_Month'] = dc[\"START_DATE\"].map(lambda x: x.month)\n",
    "dc.Crime_Start_Month = dc.Crime_Start_Month.astype('int64')\n",
    "\n",
    "# add day of the month\n",
    "dc['Crime_Start_Day'] = dc[\"START_DATE\"].map(lambda x:x.day)\n",
    "dc.Crime_Start_Day = dc.Crime_Start_Day.astype('int64')\n",
    "\n",
    "# add hour of the day\n",
    "dc['Crime_Start_Hour'] = dc[\"START_DATE\"].map(lambda x:x.hour)\n",
    "dc.Crime_Start_Hour = dc.Crime_Start_Hour.astype('int64')"
   ]
  },
  {
   "cell_type": "code",
   "execution_count": 34,
   "metadata": {
    "collapsed": false
   },
   "outputs": [
    {
     "name": "stdout",
     "output_type": "stream",
     "text": [
      "['THEFT/OTHER' 'THEFT F/AUTO' 'BURGLARY' 'ASSAULT W/DW' 'ROBBERY'\n",
      " 'MOTOR VEHICLE THEFT' 'HOMICIDE' 'SEX ABUSE' 'ARSON']\n",
      "[1 2 3 4 5 6 7 8 9]\n",
      "[2 1]\n"
     ]
    }
   ],
   "source": [
    "# printout offenses and codes for reference\n",
    "print(dc.OFFENSE.unique())\n",
    "print(dc.OFFENSE_Code.unique())\n",
    "\n",
    "# printout crime type for reference - 1:violent, 2:property\n",
    "print(dc.CRIME_TYPE.unique())"
   ]
  },
  {
   "cell_type": "markdown",
   "metadata": {},
   "source": [
    "### 3.1.3 Remove redundant features"
   ]
  },
  {
   "cell_type": "code",
   "execution_count": 35,
   "metadata": {
    "collapsed": false
   },
   "outputs": [],
   "source": [
    "# set new dataframe to use for classification; might need existing columns for later analysis\n",
    "#df_classify = dc.copy()\n",
    "df_classify = dc\n",
    "\n",
    "# remove attributes that are redundant with other attributes\n",
    "# most redundant because of Codes\n",
    "# TIME_TO_REPORT is redundant with AGE\n",
    "# XBLOCK and YBLOCK redundant with latitude and longitude\n",
    "for attrib in ('OFFENSE', 'METHOD', 'DISTRICT', 'REPORT_DAT', 'CCN', 'START_DATE', 'END_DATE', \n",
    "               'SHIFT', 'PSA', 'TIME_TO_REPORT', 'XBLOCK', 'YBLOCK'):\n",
    "    if attrib in df_classify:\n",
    "        del df_classify[attrib]"
   ]
  },
  {
   "cell_type": "markdown",
   "metadata": {},
   "source": [
    "### 3.1.4 Remove features we don't care about"
   ]
  },
  {
   "cell_type": "code",
   "execution_count": 36,
   "metadata": {
    "collapsed": true
   },
   "outputs": [],
   "source": [
    "# we are interested in police service area, remove all other geogrpahic features\n",
    "for attrib in ('PSA_ID', 'ANC', 'NEIGHBORHOOD_CLUSTER', 'DistrictID', 'CENSUS_TRACT', 'VOTING_PRECINCT', 'AGE',\n",
    "              'Crime_Start_Month', 'Crime_Start_Day'):\n",
    "    if attrib in df_classify:\n",
    "        del df_classify[attrib]"
   ]
  },
  {
   "cell_type": "code",
   "execution_count": 37,
   "metadata": {
    "collapsed": false
   },
   "outputs": [
    {
     "name": "stdout",
     "output_type": "stream",
     "text": [
      "<class 'pandas.core.frame.DataFrame'>\n",
      "RangeIndex: 36489 entries, 0 to 36488\n",
      "Data columns (total 8 columns):\n",
      "WARD                36489 non-null int64\n",
      "SHIFT_Code          36489 non-null int64\n",
      "OFFENSE_Code        36489 non-null int64\n",
      "METHOD_Code         36489 non-null int64\n",
      "CRIME_TYPE          36489 non-null int64\n",
      "Latitude            36489 non-null float64\n",
      "Longitude           36489 non-null float64\n",
      "Crime_Start_Hour    36489 non-null int64\n",
      "dtypes: float64(2), int64(6)\n",
      "memory usage: 2.2 MB\n"
     ]
    }
   ],
   "source": [
    "df_classify.info()"
   ]
  },
  {
   "cell_type": "markdown",
   "metadata": {},
   "source": [
    "### 3.1.5 Break categories into separate columns for each possible outcome."
   ]
  },
  {
   "cell_type": "code",
   "execution_count": 38,
   "metadata": {
    "collapsed": false
   },
   "outputs": [
    {
     "name": "stdout",
     "output_type": "stream",
     "text": [
      "<class 'pandas.core.frame.DataFrame'>\n",
      "RangeIndex: 36489 entries, 0 to 36488\n",
      "Data columns (total 19 columns):\n",
      "OFFENSE_Code        36489 non-null int64\n",
      "CRIME_TYPE          36489 non-null int64\n",
      "Latitude            36489 non-null float64\n",
      "Longitude           36489 non-null float64\n",
      "Crime_Start_Hour    36489 non-null int64\n",
      "SHIFT_Code_1        36489 non-null uint8\n",
      "SHIFT_Code_2        36489 non-null uint8\n",
      "SHIFT_Code_3        36489 non-null uint8\n",
      "METHOD_Code_1       36489 non-null uint8\n",
      "METHOD_Code_2       36489 non-null uint8\n",
      "METHOD_Code_3       36489 non-null uint8\n",
      "WARD_1              36489 non-null uint8\n",
      "WARD_2              36489 non-null uint8\n",
      "WARD_3              36489 non-null uint8\n",
      "WARD_4              36489 non-null uint8\n",
      "WARD_5              36489 non-null uint8\n",
      "WARD_6              36489 non-null uint8\n",
      "WARD_7              36489 non-null uint8\n",
      "WARD_8              36489 non-null uint8\n",
      "dtypes: float64(2), int64(3), uint8(14)\n",
      "memory usage: 1.9 MB\n",
      "None\n"
     ]
    }
   ],
   "source": [
    "# perform one-hot encoding of non-binary categorical data\n",
    "\n",
    "for attrib in ('SHIFT_Code', 'METHOD_Code', 'WARD'):\n",
    "    tmp_df = pd.get_dummies(df_classify[attrib], prefix=attrib)\n",
    "    df_classify = pd.concat((df_classify, tmp_df),axis=1) # add back into the dataframe\n",
    "    \n",
    "    del df_classify[attrib] # remove attribe\n",
    "\n",
    "print(df_classify.info())"
   ]
  },
  {
   "cell_type": "markdown",
   "metadata": {},
   "source": [
    "## 3.2 - Dataset Review\n",
    "### 3.2.1 Now it is time to review our data before modeling it. We will begin by displaying simple statistics of our columns."
   ]
  },
  {
   "cell_type": "code",
   "execution_count": 39,
   "metadata": {
    "collapsed": false
   },
   "outputs": [
    {
     "data": {
      "text/html": [
       "<div>\n",
       "<table border=\"1\" class=\"dataframe\">\n",
       "  <thead>\n",
       "    <tr style=\"text-align: right;\">\n",
       "      <th></th>\n",
       "      <th>count</th>\n",
       "      <th>mean</th>\n",
       "      <th>std</th>\n",
       "      <th>min</th>\n",
       "      <th>25%</th>\n",
       "      <th>50%</th>\n",
       "      <th>75%</th>\n",
       "      <th>max</th>\n",
       "    </tr>\n",
       "  </thead>\n",
       "  <tbody>\n",
       "    <tr>\n",
       "      <th>OFFENSE_Code</th>\n",
       "      <td>36489.0</td>\n",
       "      <td>2.468634</td>\n",
       "      <td>1.717339</td>\n",
       "      <td>1.000000</td>\n",
       "      <td>1.00000</td>\n",
       "      <td>2.000000</td>\n",
       "      <td>3.000000</td>\n",
       "      <td>9.000000</td>\n",
       "    </tr>\n",
       "    <tr>\n",
       "      <th>CRIME_TYPE</th>\n",
       "      <td>36489.0</td>\n",
       "      <td>1.830826</td>\n",
       "      <td>0.374911</td>\n",
       "      <td>1.000000</td>\n",
       "      <td>2.00000</td>\n",
       "      <td>2.000000</td>\n",
       "      <td>2.000000</td>\n",
       "      <td>2.000000</td>\n",
       "    </tr>\n",
       "    <tr>\n",
       "      <th>Latitude</th>\n",
       "      <td>36489.0</td>\n",
       "      <td>38.907139</td>\n",
       "      <td>0.030849</td>\n",
       "      <td>38.813471</td>\n",
       "      <td>38.89208</td>\n",
       "      <td>38.906455</td>\n",
       "      <td>38.926422</td>\n",
       "      <td>38.993560</td>\n",
       "    </tr>\n",
       "    <tr>\n",
       "      <th>Longitude</th>\n",
       "      <td>36489.0</td>\n",
       "      <td>-77.008059</td>\n",
       "      <td>0.035893</td>\n",
       "      <td>-77.113642</td>\n",
       "      <td>-77.03196</td>\n",
       "      <td>-77.012929</td>\n",
       "      <td>-76.985512</td>\n",
       "      <td>-76.910021</td>\n",
       "    </tr>\n",
       "    <tr>\n",
       "      <th>Crime_Start_Hour</th>\n",
       "      <td>36489.0</td>\n",
       "      <td>13.517526</td>\n",
       "      <td>6.394569</td>\n",
       "      <td>0.000000</td>\n",
       "      <td>9.00000</td>\n",
       "      <td>14.000000</td>\n",
       "      <td>19.000000</td>\n",
       "      <td>23.000000</td>\n",
       "    </tr>\n",
       "    <tr>\n",
       "      <th>SHIFT_Code_1</th>\n",
       "      <td>36489.0</td>\n",
       "      <td>0.372140</td>\n",
       "      <td>0.483382</td>\n",
       "      <td>0.000000</td>\n",
       "      <td>0.00000</td>\n",
       "      <td>0.000000</td>\n",
       "      <td>1.000000</td>\n",
       "      <td>1.000000</td>\n",
       "    </tr>\n",
       "    <tr>\n",
       "      <th>SHIFT_Code_2</th>\n",
       "      <td>36489.0</td>\n",
       "      <td>0.437885</td>\n",
       "      <td>0.496134</td>\n",
       "      <td>0.000000</td>\n",
       "      <td>0.00000</td>\n",
       "      <td>0.000000</td>\n",
       "      <td>1.000000</td>\n",
       "      <td>1.000000</td>\n",
       "    </tr>\n",
       "    <tr>\n",
       "      <th>SHIFT_Code_3</th>\n",
       "      <td>36489.0</td>\n",
       "      <td>0.189975</td>\n",
       "      <td>0.392287</td>\n",
       "      <td>0.000000</td>\n",
       "      <td>0.00000</td>\n",
       "      <td>0.000000</td>\n",
       "      <td>0.000000</td>\n",
       "      <td>1.000000</td>\n",
       "    </tr>\n",
       "    <tr>\n",
       "      <th>METHOD_Code_1</th>\n",
       "      <td>36489.0</td>\n",
       "      <td>0.908356</td>\n",
       "      <td>0.288527</td>\n",
       "      <td>0.000000</td>\n",
       "      <td>1.00000</td>\n",
       "      <td>1.000000</td>\n",
       "      <td>1.000000</td>\n",
       "      <td>1.000000</td>\n",
       "    </tr>\n",
       "    <tr>\n",
       "      <th>METHOD_Code_2</th>\n",
       "      <td>36489.0</td>\n",
       "      <td>0.059717</td>\n",
       "      <td>0.236964</td>\n",
       "      <td>0.000000</td>\n",
       "      <td>0.00000</td>\n",
       "      <td>0.000000</td>\n",
       "      <td>0.000000</td>\n",
       "      <td>1.000000</td>\n",
       "    </tr>\n",
       "    <tr>\n",
       "      <th>METHOD_Code_3</th>\n",
       "      <td>36489.0</td>\n",
       "      <td>0.031927</td>\n",
       "      <td>0.175809</td>\n",
       "      <td>0.000000</td>\n",
       "      <td>0.00000</td>\n",
       "      <td>0.000000</td>\n",
       "      <td>0.000000</td>\n",
       "      <td>1.000000</td>\n",
       "    </tr>\n",
       "    <tr>\n",
       "      <th>WARD_1</th>\n",
       "      <td>36489.0</td>\n",
       "      <td>0.140974</td>\n",
       "      <td>0.347999</td>\n",
       "      <td>0.000000</td>\n",
       "      <td>0.00000</td>\n",
       "      <td>0.000000</td>\n",
       "      <td>0.000000</td>\n",
       "      <td>1.000000</td>\n",
       "    </tr>\n",
       "    <tr>\n",
       "      <th>WARD_2</th>\n",
       "      <td>36489.0</td>\n",
       "      <td>0.181534</td>\n",
       "      <td>0.385465</td>\n",
       "      <td>0.000000</td>\n",
       "      <td>0.00000</td>\n",
       "      <td>0.000000</td>\n",
       "      <td>0.000000</td>\n",
       "      <td>1.000000</td>\n",
       "    </tr>\n",
       "    <tr>\n",
       "      <th>WARD_3</th>\n",
       "      <td>36489.0</td>\n",
       "      <td>0.051385</td>\n",
       "      <td>0.220785</td>\n",
       "      <td>0.000000</td>\n",
       "      <td>0.00000</td>\n",
       "      <td>0.000000</td>\n",
       "      <td>0.000000</td>\n",
       "      <td>1.000000</td>\n",
       "    </tr>\n",
       "    <tr>\n",
       "      <th>WARD_4</th>\n",
       "      <td>36489.0</td>\n",
       "      <td>0.095125</td>\n",
       "      <td>0.293391</td>\n",
       "      <td>0.000000</td>\n",
       "      <td>0.00000</td>\n",
       "      <td>0.000000</td>\n",
       "      <td>0.000000</td>\n",
       "      <td>1.000000</td>\n",
       "    </tr>\n",
       "    <tr>\n",
       "      <th>WARD_5</th>\n",
       "      <td>36489.0</td>\n",
       "      <td>0.139796</td>\n",
       "      <td>0.346780</td>\n",
       "      <td>0.000000</td>\n",
       "      <td>0.00000</td>\n",
       "      <td>0.000000</td>\n",
       "      <td>0.000000</td>\n",
       "      <td>1.000000</td>\n",
       "    </tr>\n",
       "    <tr>\n",
       "      <th>WARD_6</th>\n",
       "      <td>36489.0</td>\n",
       "      <td>0.162981</td>\n",
       "      <td>0.369353</td>\n",
       "      <td>0.000000</td>\n",
       "      <td>0.00000</td>\n",
       "      <td>0.000000</td>\n",
       "      <td>0.000000</td>\n",
       "      <td>1.000000</td>\n",
       "    </tr>\n",
       "    <tr>\n",
       "      <th>WARD_7</th>\n",
       "      <td>36489.0</td>\n",
       "      <td>0.119899</td>\n",
       "      <td>0.324848</td>\n",
       "      <td>0.000000</td>\n",
       "      <td>0.00000</td>\n",
       "      <td>0.000000</td>\n",
       "      <td>0.000000</td>\n",
       "      <td>1.000000</td>\n",
       "    </tr>\n",
       "    <tr>\n",
       "      <th>WARD_8</th>\n",
       "      <td>36489.0</td>\n",
       "      <td>0.108307</td>\n",
       "      <td>0.310772</td>\n",
       "      <td>0.000000</td>\n",
       "      <td>0.00000</td>\n",
       "      <td>0.000000</td>\n",
       "      <td>0.000000</td>\n",
       "      <td>1.000000</td>\n",
       "    </tr>\n",
       "  </tbody>\n",
       "</table>\n",
       "</div>"
      ],
      "text/plain": [
       "                    count       mean       std        min       25%  \\\n",
       "OFFENSE_Code      36489.0   2.468634  1.717339   1.000000   1.00000   \n",
       "CRIME_TYPE        36489.0   1.830826  0.374911   1.000000   2.00000   \n",
       "Latitude          36489.0  38.907139  0.030849  38.813471  38.89208   \n",
       "Longitude         36489.0 -77.008059  0.035893 -77.113642 -77.03196   \n",
       "Crime_Start_Hour  36489.0  13.517526  6.394569   0.000000   9.00000   \n",
       "SHIFT_Code_1      36489.0   0.372140  0.483382   0.000000   0.00000   \n",
       "SHIFT_Code_2      36489.0   0.437885  0.496134   0.000000   0.00000   \n",
       "SHIFT_Code_3      36489.0   0.189975  0.392287   0.000000   0.00000   \n",
       "METHOD_Code_1     36489.0   0.908356  0.288527   0.000000   1.00000   \n",
       "METHOD_Code_2     36489.0   0.059717  0.236964   0.000000   0.00000   \n",
       "METHOD_Code_3     36489.0   0.031927  0.175809   0.000000   0.00000   \n",
       "WARD_1            36489.0   0.140974  0.347999   0.000000   0.00000   \n",
       "WARD_2            36489.0   0.181534  0.385465   0.000000   0.00000   \n",
       "WARD_3            36489.0   0.051385  0.220785   0.000000   0.00000   \n",
       "WARD_4            36489.0   0.095125  0.293391   0.000000   0.00000   \n",
       "WARD_5            36489.0   0.139796  0.346780   0.000000   0.00000   \n",
       "WARD_6            36489.0   0.162981  0.369353   0.000000   0.00000   \n",
       "WARD_7            36489.0   0.119899  0.324848   0.000000   0.00000   \n",
       "WARD_8            36489.0   0.108307  0.310772   0.000000   0.00000   \n",
       "\n",
       "                        50%        75%        max  \n",
       "OFFENSE_Code       2.000000   3.000000   9.000000  \n",
       "CRIME_TYPE         2.000000   2.000000   2.000000  \n",
       "Latitude          38.906455  38.926422  38.993560  \n",
       "Longitude        -77.012929 -76.985512 -76.910021  \n",
       "Crime_Start_Hour  14.000000  19.000000  23.000000  \n",
       "SHIFT_Code_1       0.000000   1.000000   1.000000  \n",
       "SHIFT_Code_2       0.000000   1.000000   1.000000  \n",
       "SHIFT_Code_3       0.000000   0.000000   1.000000  \n",
       "METHOD_Code_1      1.000000   1.000000   1.000000  \n",
       "METHOD_Code_2      0.000000   0.000000   1.000000  \n",
       "METHOD_Code_3      0.000000   0.000000   1.000000  \n",
       "WARD_1             0.000000   0.000000   1.000000  \n",
       "WARD_2             0.000000   0.000000   1.000000  \n",
       "WARD_3             0.000000   0.000000   1.000000  \n",
       "WARD_4             0.000000   0.000000   1.000000  \n",
       "WARD_5             0.000000   0.000000   1.000000  \n",
       "WARD_6             0.000000   0.000000   1.000000  \n",
       "WARD_7             0.000000   0.000000   1.000000  \n",
       "WARD_8             0.000000   0.000000   1.000000  "
      ]
     },
     "execution_count": 39,
     "metadata": {},
     "output_type": "execute_result"
    }
   ],
   "source": [
    "df_classify.describe().transpose()"
   ]
  },
  {
   "cell_type": "code",
   "execution_count": 40,
   "metadata": {
    "collapsed": false
   },
   "outputs": [
    {
     "data": {
      "text/plain": [
       "<matplotlib.axes._subplots.AxesSubplot at 0x116889210>"
      ]
     },
     "execution_count": 40,
     "metadata": {},
     "output_type": "execute_result"
    },
    {
     "data": {
      "image/png": "[encoded data removed]",
      "text/plain": [
       "<matplotlib.figure.Figure at 0x116892110>"
      ]
     },
     "metadata": {},
     "output_type": "display_data"
    }
   ],
   "source": [
    "# 1: Theft/Other, 2: Theft from Auto, 3: Burglary, 4: Assault with Dangerous Weapon,\n",
    "# 5: Robbery, 6: Motor Vehicle Theft, 7: Homicide, 8: Sex Abuse, 9: Arson\n",
    "\n",
    "tmpdf = df_classify[['OFFENSE_Code']]\n",
    "sns.countplot(x='OFFENSE_Code', data=tmpdf)"
   ]
  },
  {
   "cell_type": "markdown",
   "metadata": {},
   "source": [
    "Offence Code 1 or Theft/Other is 38% of our population. We are imbalanced with offense code 1 and 2."
   ]
  },
  {
   "cell_type": "code",
   "execution_count": 41,
   "metadata": {
    "collapsed": false
   },
   "outputs": [
    {
     "data": {
      "text/plain": [
       "1    0.383677\n",
       "2    0.300639\n",
       "5    0.091863\n",
       "6    0.076571\n",
       "3    0.069446\n",
       "4    0.065499\n",
       "8    0.007482\n",
       "7    0.004330\n",
       "9    0.000493\n",
       "Name: OFFENSE_Code, dtype: float64"
      ]
     },
     "execution_count": 41,
     "metadata": {},
     "output_type": "execute_result"
    }
   ],
   "source": [
    "df_classify.OFFENSE_Code.value_counts() / len(df_classify.OFFENSE_Code) * 1."
   ]
  },
  {
   "cell_type": "code",
   "execution_count": 42,
   "metadata": {
    "collapsed": false
   },
   "outputs": [
    {
     "data": {
      "text/plain": [
       "<matplotlib.axes._subplots.AxesSubplot at 0x11ccd73d0>"
      ]
     },
     "execution_count": 42,
     "metadata": {},
     "output_type": "execute_result"
    },
    {
     "data": {
      "image/png": "[encoded data removed]",
      "text/plain": [
       "<matplotlib.figure.Figure at 0x11457cf10>"
      ]
     },
     "metadata": {},
     "output_type": "display_data"
    }
   ],
   "source": [
    "# 1: violent, 2: propery\n",
    "\n",
    "tmpdf = df_classify[['CRIME_TYPE']]\n",
    "sns.countplot(x='CRIME_TYPE', data=tmpdf)"
   ]
  },
  {
   "cell_type": "markdown",
   "metadata": {},
   "source": [
    "Property crime type is 83% of our population. This means we have an imbalanced class data."
   ]
  },
  {
   "cell_type": "code",
   "execution_count": 43,
   "metadata": {
    "collapsed": false
   },
   "outputs": [
    {
     "data": {
      "text/plain": [
       "2    0.830826\n",
       "1    0.169174\n",
       "Name: CRIME_TYPE, dtype: float64"
      ]
     },
     "execution_count": 43,
     "metadata": {},
     "output_type": "execute_result"
    }
   ],
   "source": [
    "df_classify.CRIME_TYPE.value_counts() / len(df_classify.CRIME_TYPE) * 1."
   ]
  },
  {
   "cell_type": "markdown",
   "metadata": {},
   "source": [
    "## 3.3 - Training and Testing Split\n",
    "\n",
    "For training and testing purposes, let's gather the data we have and grab 80% of the instances for training and the remaining 20% for testing. Moreover, let's repeat this process of separating the testing and training data three times. We will use the hold out cross validation method built into `scikit-learn`."
   ]
  },
  {
   "cell_type": "code",
   "execution_count": 44,
   "metadata": {
    "collapsed": false
   },
   "outputs": [
    {
     "name": "stdout",
     "output_type": "stream",
     "text": [
      "number of features = 17\n",
      "(36489, 17)\n"
     ]
    }
   ],
   "source": [
    "crime_type_target = 'CRIME_TYPE'\n",
    "offense_code_target = 'OFFENSE_Code'\n",
    "\n",
    "features = df_classify.columns.values\n",
    "features = features[(features != 'CRIME_TYPE') & (features != 'OFFENSE_Code')]\n",
    "print('number of features =', len(features))\n",
    "\n",
    "y_crime_type = df_classify[crime_type_target].values\n",
    "y_offense_code = df_classify[offense_code_target].values\n",
    "\n",
    "X = df_classify[features].values\n",
    "print(X.shape)"
   ]
  },
  {
   "cell_type": "code",
   "execution_count": 45,
   "metadata": {
    "collapsed": false
   },
   "outputs": [
    {
     "name": "stdout",
     "output_type": "stream",
     "text": [
      "StratifiedShuffleSplit(n_splits=3, random_state=None, test_size=0.2,\n",
      "            train_size=None)\n"
     ]
    }
   ],
   "source": [
    "from sklearn.model_selection import StratifiedShuffleSplit\n",
    "    \n",
    "    \n",
    "# to use the cross validation object in scikit-learn, we need to grab an instance\n",
    "#    of the object and set it up. This object will be able to split our data into \n",
    "#    training and testing splits\n",
    "cv_object = StratifiedShuffleSplit(n_splits=3, test_size=0.2)\n",
    "print(cv_object)"
   ]
  },
  {
   "cell_type": "markdown",
   "metadata": {},
   "source": [
    "## 3.4 Normalization"
   ]
  },
  {
   "cell_type": "code",
   "execution_count": 46,
   "metadata": {
    "collapsed": false
   },
   "outputs": [],
   "source": [
    "# let's normalize our data\n",
    "from sklearn.preprocessing import StandardScaler\n",
    "\n",
    "# we want to normalize the features based upon the mean and standard deviation of each column. \n",
    "# However, we do not want to accidentally use the testing data to find out the mean and std (this would be snooping)\n",
    "# to Make things easier, let's start by just using whatever was last stored in the variables:\n",
    "##    X_train , X_test\n",
    "\n",
    "for train_indices, test_indices in cv_object.split(X, y_crime_type):\n",
    "    X_train = X[train_indices]\n",
    "\n",
    "# scale attributes by the training set\n",
    "scl_obj = StandardScaler()\n",
    "scl_obj.fit(X_train) # find scalings for each column that make this zero mean and unit std\n",
    "# the line of code above only looks at training data to get mean and std and we can use it \n",
    "# to transform new feature data\n",
    "\n",
    "X_norm = scl_obj.transform(X)"
   ]
  },
  {
   "cell_type": "code",
   "execution_count": 47,
   "metadata": {
    "collapsed": false
   },
   "outputs": [],
   "source": [
    "# run logistic regression and vary some parameters\n",
    "from sklearn.linear_model import LogisticRegression\n",
    "from sklearn.metrics import classification_report\n",
    "from sklearn.metrics import accuracy_score\n",
    "\n",
    "from sklearn.model_selection import StratifiedShuffleSplit\n",
    "from sklearn.model_selection import GridSearchCV\n",
    "from sklearn.model_selection import cross_val_score"
   ]
  },
  {
   "cell_type": "markdown",
   "metadata": {},
   "source": [
    "## 3.5 Logistic Regression"
   ]
  },
  {
   "cell_type": "markdown",
   "metadata": {},
   "source": [
    "### 3.5.1 Crime Type Classification"
   ]
  },
  {
   "cell_type": "code",
   "execution_count": 48,
   "metadata": {
    "collapsed": false
   },
   "outputs": [
    {
     "name": "stdout",
     "output_type": "stream",
     "text": [
      "The best parameters are {'C': 0.01} with a score of 0.85\n"
     ]
    }
   ],
   "source": [
    "# http://scikit-learn.org/stable/auto_examples/svm/plot_rbf_parameters.html\n",
    "C_range = np.logspace(-2, 3, 4)\n",
    "param_grid = dict(C=C_range)\n",
    "cv = StratifiedShuffleSplit(n_splits=3, test_size=0.2, random_state=42)\n",
    "\n",
    "grid = GridSearchCV(LogisticRegression(penalty='l2', class_weight='balanced', multi_class='ovr', n_jobs=-1), \n",
    "                    param_grid=param_grid, cv=cv)\n",
    "grid.fit(X_norm, y_crime_type)\n",
    "\n",
    "print(\"The best parameters are %s with a score of %0.2f\" % (grid.best_params_, grid.best_score_))"
   ]
  },
  {
   "cell_type": "code",
   "execution_count": 49,
   "metadata": {
    "collapsed": false
   },
   "outputs": [
    {
     "name": "stdout",
     "output_type": "stream",
     "text": [
      "Iteration:  1\n",
      "0.853795560428\n",
      "             precision    recall  f1-score   support\n",
      "\n",
      "          1       0.56      0.66      0.60      1235\n",
      "          2       0.93      0.89      0.91      6063\n",
      "\n",
      "avg / total       0.87      0.85      0.86      7298\n",
      "\n",
      "Iteration:  2\n",
      "0.857495204166\n",
      "             precision    recall  f1-score   support\n",
      "\n",
      "          1       0.57      0.63      0.60      1235\n",
      "          2       0.92      0.90      0.91      6063\n",
      "\n",
      "avg / total       0.86      0.86      0.86      7298\n",
      "\n",
      "Iteration:  3\n",
      "0.842011510003\n",
      "             precision    recall  f1-score   support\n",
      "\n",
      "          1       0.53      0.65      0.58      1235\n",
      "          2       0.93      0.88      0.90      6063\n",
      "\n",
      "avg / total       0.86      0.84      0.85      7298\n",
      "\n"
     ]
    }
   ],
   "source": [
    "# use best model and report\n",
    "lgr = LogisticRegression(penalty='l2', class_weight='balanced', multi_class='ovr', n_jobs=-1, C=.01)\n",
    "cv = StratifiedShuffleSplit(n_splits=3, test_size=0.2, random_state=42)\n",
    "\n",
    "iter_num = 0\n",
    "for train_indices, test_indices in cv.split(X_norm, y_crime_type):\n",
    "    lgr.fit(X_norm[train_indices], y_crime_type[train_indices])  # train object\n",
    "    y_hat = lgr.predict(X_norm[test_indices]) # get test set predictions\n",
    "    \n",
    "    iter_num = iter_num + 1\n",
    "    print('Iteration: ', iter_num)\n",
    "    print(accuracy_score(y_crime_type[test_indices], y_hat))\n",
    "    print(classification_report(y_crime_type[test_indices], y_hat))"
   ]
  },
  {
   "cell_type": "markdown",
   "metadata": {},
   "source": [
    "Coefficients"
   ]
  },
  {
   "cell_type": "code",
   "execution_count": 50,
   "metadata": {
    "collapsed": false
   },
   "outputs": [
    {
     "name": "stdout",
     "output_type": "stream",
     "text": [
      "METHOD_Code_1 has weight of 0.806766036573\n",
      "METHOD_Code_2 has weight of -0.614652892436\n",
      "METHOD_Code_3 has weight of -0.495364594379\n",
      "SHIFT_Code_3 has weight of -0.331939349786\n",
      "SHIFT_Code_1 has weight of 0.30865863606\n",
      "WARD_2 has weight of 0.179944334555\n",
      "WARD_3 has weight of 0.174672569296\n",
      "WARD_4 has weight of -0.100932132938\n",
      "WARD_8 has weight of -0.0899035252076\n",
      "Longitude has weight of -0.0826595164572\n",
      "WARD_7 has weight of -0.0802766069184\n",
      "Latitude has weight of 0.063920124591\n",
      "WARD_1 has weight of -0.0400465792594\n",
      "SHIFT_Code_2 has weight of -0.039159326052\n",
      "WARD_5 has weight of -0.0264304735849\n",
      "Crime_Start_Hour has weight of 0.0155918989204\n",
      "WARD_6 has weight of -0.00362946709705\n"
     ]
    }
   ],
   "source": [
    "# sort these attributes and spit them out\n",
    "zip_vars = zip(lgr.coef_.T, features) # combine attributes\n",
    "zip_vars.sort(key = lambda t: np.abs(t[0]), reverse=True) # sort them by the magnitude of the weight\n",
    "for coef, name in zip_vars:\n",
    "    print(name, 'has weight of', coef[0]) # now print them out"
   ]
  },
  {
   "cell_type": "code",
   "execution_count": 51,
   "metadata": {
    "collapsed": false
   },
   "outputs": [
    {
     "data": {
      "image/png": "[encoded data removed]",
      "text/plain": [
       "<matplotlib.figure.Figure at 0x11a1573d0>"
      ]
     },
     "metadata": {},
     "output_type": "display_data"
    }
   ],
   "source": [
    "# now let's make a pandas Series with the names and values, and plot them\n",
    "weights = pd.Series(lgr.coef_[0], index=features)\n",
    "#sns.barplot(y=weights, x=weights.index, data=weights)\n",
    "weights.plot(kind='bar')\n",
    "#plt.xlabel('features', fontsize=5)\n",
    "plt.show()\n",
    "\n",
    "# method_code = 'others':1, 'gun':2, 'knife':3"
   ]
  },
  {
   "cell_type": "markdown",
   "metadata": {},
   "source": [
    "### 3.5.2 Offense Codes Classification"
   ]
  },
  {
   "cell_type": "code",
   "execution_count": 52,
   "metadata": {
    "collapsed": false
   },
   "outputs": [
    {
     "name": "stdout",
     "output_type": "stream",
     "text": [
      "Iteration:  1\n",
      "0.230611126336\n",
      "             precision    recall  f1-score   support\n",
      "\n",
      "          1       0.62      0.26      0.37      2800\n",
      "          2       0.44      0.24      0.31      2194\n",
      "          3       0.06      0.14      0.09       507\n",
      "          4       0.61      0.27      0.38       478\n",
      "          5       0.60      0.10      0.17       670\n",
      "          6       0.12      0.20      0.15       559\n",
      "          7       0.09      0.78      0.16        32\n",
      "          8       0.01      0.20      0.02        55\n",
      "          9       0.00      0.33      0.00         3\n",
      "\n",
      "avg / total       0.48      0.23      0.29      7298\n",
      "\n",
      "Iteration:  2\n",
      "0.28062482872\n",
      "             precision    recall  f1-score   support\n",
      "\n",
      "          1       0.51      0.43      0.47      2800\n",
      "          2       0.43      0.09      0.15      2194\n",
      "          3       0.14      0.33      0.19       507\n",
      "          4       0.63      0.26      0.36       478\n",
      "          5       0.27      0.19      0.22       670\n",
      "          6       0.12      0.35      0.18       559\n",
      "          7       0.10      0.75      0.17        32\n",
      "          8       0.03      0.05      0.04        55\n",
      "          9       0.00      0.67      0.01         3\n",
      "\n",
      "avg / total       0.41      0.28      0.30      7298\n",
      "\n",
      "Iteration:  3\n",
      "0.243354343656\n",
      "             precision    recall  f1-score   support\n",
      "\n",
      "          1       0.59      0.35      0.44      2800\n",
      "          2       0.43      0.07      0.13      2194\n",
      "          3       0.11      0.29      0.16       507\n",
      "          4       0.60      0.45      0.51       478\n",
      "          5       0.09      0.09      0.09       670\n",
      "          6       0.13      0.32      0.18       559\n",
      "          7       0.04      0.88      0.08        32\n",
      "          8       0.01      0.07      0.01        55\n",
      "          9       0.00      0.00      0.00         3\n",
      "\n",
      "avg / total       0.42      0.24      0.27      7298\n",
      "\n"
     ]
    }
   ],
   "source": [
    "# use best model and report\n",
    "lgr = LogisticRegression(penalty='l2', class_weight='balanced', multi_class='multinomial',\n",
    "                                      solver='sag', n_jobs=-1, C=.01, max_iter=500)\n",
    "cv = StratifiedShuffleSplit(n_splits=3, test_size=0.2, random_state=42)\n",
    "\n",
    "iter_num = 0\n",
    "for train_indices, test_indices in cv.split(X_norm, y_offense_code):\n",
    "    lgr.fit(X_norm[train_indices], y_offense_code[train_indices])  # train object\n",
    "    y_hat = lgr.predict(X_norm[test_indices]) # get test set predictions\n",
    "    \n",
    "    iter_num = iter_num + 1\n",
    "    print('Iteration: ', iter_num)\n",
    "    print(accuracy_score(y_offense_code[test_indices], y_hat))\n",
    "    print(classification_report(y_offense_code[test_indices], y_hat))"
   ]
  },
  {
   "cell_type": "markdown",
   "metadata": {},
   "source": [
    "## 3.6 Support Vector Machine (SVM) Regression"
   ]
  },
  {
   "cell_type": "code",
   "execution_count": 59,
   "metadata": {
    "collapsed": false
   },
   "outputs": [],
   "source": [
    "# run logistic regression and vary some parameters\n",
    "from sklearn.svm import LinearSVC\n",
    "from sklearn.svm import SVC"
   ]
  },
  {
   "cell_type": "markdown",
   "metadata": {},
   "source": [
    "### 3.6.1 Crime Type Classification"
   ]
  },
  {
   "cell_type": "code",
   "execution_count": 54,
   "metadata": {
    "collapsed": false
   },
   "outputs": [
    {
     "name": "stdout",
     "output_type": "stream",
     "text": [
      "The best parameters are {'C': 0.01} with a score of 0.85\n"
     ]
    }
   ],
   "source": [
    "C_range = np.logspace(-2, 3, 4)\n",
    "param_grid = dict(C=C_range)\n",
    "\n",
    "cv = StratifiedShuffleSplit(n_splits=3, test_size=0.2, random_state=42)\n",
    "grid = GridSearchCV(LinearSVC(penalty='l2', multi_class='ovr', class_weight='balanced', dual=True), \n",
    "                    param_grid=param_grid, cv=cv, n_jobs=-1)\n",
    "grid.fit(X_norm, y_crime_type)\n",
    "\n",
    "print(\"The best parameters are %s with a score of %0.2f\"\n",
    "      % (grid.best_params_, grid.best_score_))"
   ]
  },
  {
   "cell_type": "code",
   "execution_count": 55,
   "metadata": {
    "collapsed": false
   },
   "outputs": [
    {
     "name": "stdout",
     "output_type": "stream",
     "text": [
      "Iteration:  1\n",
      "0.856261989586\n",
      "             precision    recall  f1-score   support\n",
      "\n",
      "          1       0.56      0.66      0.61      1235\n",
      "          2       0.93      0.90      0.91      6063\n",
      "\n",
      "avg / total       0.87      0.86      0.86      7298\n",
      "\n",
      "Iteration:  1\n",
      "0.860646752535\n",
      "             precision    recall  f1-score   support\n",
      "\n",
      "          1       0.58      0.62      0.60      1235\n",
      "          2       0.92      0.91      0.92      6063\n",
      "\n",
      "avg / total       0.86      0.86      0.86      7298\n",
      "\n",
      "Iteration:  1\n",
      "0.842970676898\n",
      "             precision    recall  f1-score   support\n",
      "\n",
      "          1       0.53      0.65      0.58      1235\n",
      "          2       0.92      0.88      0.90      6063\n",
      "\n",
      "avg / total       0.86      0.84      0.85      7298\n",
      "\n"
     ]
    }
   ],
   "source": [
    "# use best model and report\n",
    "svm = LinearSVC(penalty='l2', class_weight='balanced', dual=True, multi_class='ovr', C=.01)\n",
    "cv = StratifiedShuffleSplit(n_splits=3, test_size=0.2, random_state=42)\n",
    "\n",
    "iter_num = 0\n",
    "for train_indices, test_indices in cv.split(X_norm, y_crime_type):\n",
    "    svm.fit(X_norm[train_indices], y_crime_type[train_indices])  # train object\n",
    "    y_hat = svm.predict(X_norm[test_indices]) # get test set precitions\n",
    "    \n",
    "    print('Iteration: ', iter_num+1)\n",
    "    print(accuracy_score(y_crime_type[test_indices], y_hat))\n",
    "    print(classification_report(y_crime_type[test_indices], y_hat))"
   ]
  },
  {
   "cell_type": "code",
   "execution_count": 56,
   "metadata": {
    "collapsed": false
   },
   "outputs": [
    {
     "name": "stdout",
     "output_type": "stream",
     "text": [
      "[[ 0.02613886 -0.02511941  0.00699686  0.12275771 -0.00393254 -0.14676933\n",
      "   0.2221937  -0.1661724  -0.1405802  -0.01080577  0.07107597  0.0535241\n",
      "  -0.03709023 -0.00832154  0.00234217 -0.03593804 -0.03519292]]\n"
     ]
    },
    {
     "data": {
      "text/plain": [
       "<matplotlib.axes._subplots.AxesSubplot at 0x118c3b950>"
      ]
     },
     "execution_count": 56,
     "metadata": {},
     "output_type": "execute_result"
    },
    {
     "data": {
      "image/png": "[encoded data removed]",
      "text/plain": [
       "<matplotlib.figure.Figure at 0x11a14ea10>"
      ]
     },
     "metadata": {},
     "output_type": "display_data"
    }
   ],
   "source": [
    "print(svm.coef_)\n",
    "weights = pd.Series(svm.coef_[0],index=features)\n",
    "weights.plot(kind='bar')"
   ]
  },
  {
   "cell_type": "markdown",
   "metadata": {},
   "source": [
    "### LinearSVC doesn't provide access to support vectors. Therefore, we are unable to look at them. SVC algorithm was attempted, but wasn't responsive given the large dataset."
   ]
  },
  {
   "cell_type": "markdown",
   "metadata": {},
   "source": [
    "### 3.6.2 Offense Code Classification"
   ]
  },
  {
   "cell_type": "code",
   "execution_count": 61,
   "metadata": {
    "collapsed": false
   },
   "outputs": [
    {
     "name": "stdout",
     "output_type": "stream",
     "text": [
      "Iteration:  1\n",
      "0.302548643464\n",
      "             precision    recall  f1-score   support\n",
      "\n",
      "          1       0.17      0.09      0.12      2800\n",
      "          2       0.33      0.89      0.49      2194\n",
      "          3       0.00      0.00      0.00       507\n",
      "          4       0.00      0.00      0.00       478\n",
      "          5       0.00      0.00      0.00       670\n",
      "          6       0.00      0.00      0.00       559\n",
      "          7       0.00      0.00      0.00        32\n",
      "          8       0.00      0.00      0.00        55\n",
      "          9       0.00      0.00      0.00         3\n",
      "\n",
      "avg / total       0.17      0.30      0.19      7298\n",
      "\n",
      "Iteration:  1\n",
      "0.297615785147\n",
      "             precision    recall  f1-score   support\n",
      "\n",
      "          1       0.16      0.09      0.11      2800\n",
      "          2       0.33      0.88      0.48      2194\n",
      "          3       0.00      0.00      0.00       507\n",
      "          4       0.00      0.00      0.00       478\n",
      "          5       0.00      0.00      0.00       670\n",
      "          6       0.00      0.00      0.00       559\n",
      "          7       0.00      0.00      0.00        32\n",
      "          8       0.00      0.00      0.00        55\n",
      "          9       0.00      0.00      0.00         3\n",
      "\n",
      "avg / total       0.16      0.30      0.19      7298\n",
      "\n",
      "Iteration:  1\n",
      "0.30295971499\n",
      "             precision    recall  f1-score   support\n",
      "\n",
      "          1       0.16      0.08      0.10      2800\n",
      "          2       0.34      0.91      0.49      2194\n",
      "          3       0.00      0.00      0.00       507\n",
      "          4       0.00      0.00      0.00       478\n",
      "          5       0.00      0.00      0.00       670\n",
      "          6       0.00      0.00      0.00       559\n",
      "          7       0.00      0.00      0.00        32\n",
      "          8       0.00      0.00      0.00        55\n",
      "          9       0.00      0.00      0.00         3\n",
      "\n",
      "avg / total       0.16      0.30      0.19      7298\n",
      "\n"
     ]
    }
   ],
   "source": [
    "# use best model and report\n",
    "svm = LinearSVC(penalty='l2', class_weight='balanced', dual=True, multi_class='ovr', C=.01)\n",
    "cv = StratifiedShuffleSplit(n_splits=3, test_size=0.2, random_state=42)\n",
    "\n",
    "iter_num = 0\n",
    "for train_indices, test_indices in cv_object.split(X_norm, y_offense_code):\n",
    "    svm.fit(X_norm[train_indices], y_crime_type[train_indices])  # train object\n",
    "    y_hat = svm.predict(X_norm[test_indices]) # get test set precitions\n",
    "    \n",
    "    print('Iteration: ', iter_num+1)\n",
    "    print(accuracy_score(y_offense_code[test_indices], y_hat))\n",
    "    print(classification_report(y_offense_code[test_indices], y_hat))"
   ]
  },
  {
   "cell_type": "code",
   "execution_count": 58,
   "metadata": {
    "collapsed": false
   },
   "outputs": [
    {
     "name": "stdout",
     "output_type": "stream",
     "text": [
      "[[ 0.04078023 -0.04583725  0.0061963   0.124143   -0.01043523 -0.14024147\n",
      "   0.22440636 -0.16390843 -0.14720844 -0.00825516  0.0610878   0.03316006\n",
      "  -0.03682165 -0.00646321  0.00700239 -0.02438968 -0.03107763]]\n"
     ]
    },
    {
     "data": {
      "text/plain": [
       "<matplotlib.axes._subplots.AxesSubplot at 0x118e77ed0>"
      ]
     },
     "execution_count": 58,
     "metadata": {},
     "output_type": "execute_result"
    },
    {
     "data": {
      "image/png": "[encoded data removed]",
      "text/plain": [
       "<matplotlib.figure.Figure at 0x118e6cb10>"
      ]
     },
     "metadata": {},
     "output_type": "display_data"
    }
   ],
   "source": [
    "print(svm.coef_)\n",
    "weights = pd.Series(svm.coef_[0],index=features)\n",
    "weights.plot(kind='bar')"
   ]
  },
  {
   "cell_type": "markdown",
   "metadata": {},
   "source": [
    "# 4 - Discuss advanges of each model for each classification task.\n",
    "\n",
    "<div style='margin-left:10%;margin-right:10%;margin-top:15px;background-color:#d3d3d3;padding:10px;'>\n",
    "    <ol><li>[<b>10 points</b>]  Discuss the advantages of each model for each classification task. Does one type of model offer superior performance over another in terms of prediction accuracy? In terms of training time or efficiency? Explain in detail.</li>\n",
    "</ol>\n",
    "</div>"
   ]
  },
  {
   "cell_type": "markdown",
   "metadata": {},
   "source": [
    "#### 1.1 Advantages of Logistic Regression\n",
    "\n",
    "#### 1.2 Advantages Support Vector Machine (SVM)\n",
    "\n",
    "#### 1.3 Superior Performance"
   ]
  },
  {
   "cell_type": "markdown",
   "metadata": {},
   "source": [
    "# 5 - Interpret the weights\n",
    "\n",
    "<div style='margin-left:10%;margin-right:10%;margin-top:15px;background-color:#d3d3d3;padding:10px;'>\n",
    "    <ol>\n",
    "    <li>[<b>30 points</b>] Use the weights from logistic regression to interpret the importance of different features for each classification task. Explain your interpretation in detail. Why do you think some variables are more important?</li>\n",
    "</ol>\n",
    "</div>"
   ]
  },
  {
   "cell_type": "markdown",
   "metadata": {},
   "source": [
    "# 6 - Analyze the support vectors\n",
    "\n",
    "<div style='margin-left:10%;margin-right:10%;margin-top:15px;background-color:#d3d3d3;padding:10px;'>\n",
    "    <ol>\n",
    "    <li>[<b>10 points</b>]  Look at the chosen support vectors for the classification task. Do these provide\n",
    "any insight into the data? Explain.</li>\n",
    "</ol>\n",
    "</div>"
   ]
  },
  {
   "cell_type": "markdown",
   "metadata": {},
   "source": [
    "# Appendix"
   ]
  },
  {
   "cell_type": "code",
   "execution_count": null,
   "metadata": {
    "collapsed": true
   },
   "outputs": [],
   "source": [
    "# Now let's do some different analysis with the SVM and look at the instances that were chosen as support vectors\n",
    "\n",
    "# now lets look at the support for the vectors and see if we they are indicative of anything\n",
    "# grabe the rows that were selected as support vectors (these are usually instances that are hard to classify)\n",
    "\n",
    "# make a dataframe of the training data\n",
    "df_tested_on = df_classify.iloc[train_indices] # saved from above, the indices chosen for training\n",
    "# now get the support vectors from the trained model\n",
    "df_support = df_tested_on.iloc[svm_clf.support_,:]\n",
    "\n",
    "df_support['Survived'] = y[svm.support_] # add back in the 'Survived' Column to the pandas dataframe\n",
    "df_classify['Survived'] = y # also add it back in for the original data\n",
    "df_support.info()"
   ]
  },
  {
   "cell_type": "code",
   "execution_count": null,
   "metadata": {
    "collapsed": true
   },
   "outputs": [],
   "source": [
    "# now lets see the statistics of these attributes\n",
    "from pandas.tools.plotting import boxplot\n",
    "\n",
    "# group the original data and the support vectors\n",
    "df_grouped_support = df_support.groupby(['Survived'])\n",
    "df_grouped = df_imputed.groupby(['Survived'])\n",
    "\n",
    "# plot KDE of Different variables\n",
    "vars_to_plot = ['Age','Pclass','IsMale','FamilySize']\n",
    "\n",
    "for v in vars_to_plot:\n",
    "    plt.figure(figsize=(10,4))\n",
    "    # plot support vector stats\n",
    "    plt.subplot(1,2,1)\n",
    "    ax = df_grouped_support[v].plot.kde() \n",
    "    plt.legend(['Perished','Survived'])\n",
    "    plt.title(v+' (Instances chosen as Support Vectors)')\n",
    "    \n",
    "    # plot original distributions\n",
    "    plt.subplot(1,2,2)\n",
    "    ax = df_grouped[v].plot.kde() \n",
    "    plt.legend(['Perished','Survived'])\n",
    "    plt.title(v+' (Original)')"
   ]
  }
 ],
 "metadata": {
  "anaconda-cloud": {},
  "kernelspec": {
   "display_name": "Python 2",
   "language": "python",
   "name": "python2"
  },
  "language_info": {
   "codemirror_mode": {
    "name": "ipython",
    "version": 2
   },
   "file_extension": ".py",
   "mimetype": "text/x-python",
   "name": "python",
   "nbconvert_exporter": "python",
   "pygments_lexer": "ipython2",
   "version": "2.7.11"
  }
 },
 "nbformat": 4,
 "nbformat_minor": 0
}
